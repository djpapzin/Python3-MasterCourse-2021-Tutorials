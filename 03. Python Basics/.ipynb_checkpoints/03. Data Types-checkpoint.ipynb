{
 "cells": [
  {
   "cell_type": "code",
   "execution_count": 10,
   "id": "a86d0de3",
   "metadata": {},
   "outputs": [
    {
     "name": "stdout",
     "output_type": "stream",
     "text": [
      "hello world. this is my first string\n",
      "<class 'str'>\n"
     ]
    }
   ],
   "source": [
    "# Text type String: str\n",
    "a = \"hello world. this is my first string\"\n",
    "print(a)\n",
    "print(type(a))"
   ]
  },
  {
   "cell_type": "code",
   "execution_count": 11,
   "id": "186118b2",
   "metadata": {},
   "outputs": [
    {
     "name": "stdout",
     "output_type": "stream",
     "text": [
      "40\n",
      "<class 'int'>\n"
     ]
    }
   ],
   "source": [
    "#Numeric types: int, float, complex\n",
    "\n",
    "#int\n",
    "b = 40\n",
    "print(b)\n",
    "print(type(b))"
   ]
  },
  {
   "cell_type": "code",
   "execution_count": 12,
   "id": "7dbd4aa5",
   "metadata": {},
   "outputs": [
    {
     "name": "stdout",
     "output_type": "stream",
     "text": [
      "50.1\n",
      "<class 'float'>\n"
     ]
    }
   ],
   "source": [
    "#float\n",
    "c = 50.1\n",
    "print(c)\n",
    "print(type(c))"
   ]
  },
  {
   "cell_type": "code",
   "execution_count": 18,
   "id": "27f153c1",
   "metadata": {},
   "outputs": [
    {
     "name": "stdout",
     "output_type": "stream",
     "text": [
      "140.2\n",
      "<class 'float'>\n"
     ]
    }
   ],
   "source": [
    "#float\n",
    "d = 50.1\n",
    "print(c+b+d)\n",
    "print(type(c+b+d))"
   ]
  },
  {
   "cell_type": "code",
   "execution_count": 20,
   "id": "fb69e9fd",
   "metadata": {},
   "outputs": [
    {
     "name": "stdout",
     "output_type": "stream",
     "text": [
      "7j\n",
      "<class 'complex'>\n"
     ]
    }
   ],
   "source": [
    "e = 7j\n",
    "print(e)\n",
    "print(type(e))"
   ]
  },
  {
   "cell_type": "code",
   "execution_count": 25,
   "id": "6ec269d2",
   "metadata": {},
   "outputs": [
    {
     "name": "stdout",
     "output_type": "stream",
     "text": [
      "['windows', 'mac', 'linux']\n",
      "<class 'list'>\n"
     ]
    }
   ],
   "source": [
    "# Sequence Types: List, tuple, range\n",
    "\n",
    "# List\n",
    "f = [\"windows\", \"mac\", \"linux\"]\n",
    "print(f)\n",
    "print(type(f))"
   ]
  },
  {
   "cell_type": "code",
   "execution_count": 26,
   "id": "e803d9b8",
   "metadata": {},
   "outputs": [
    {
     "name": "stdout",
     "output_type": "stream",
     "text": [
      "('windows', 'mac', 'linux')\n",
      "<class 'tuple'>\n"
     ]
    }
   ],
   "source": [
    "# Tuple\n",
    "g = (\"windows\", \"mac\", \"linux\")\n",
    "print(g)\n",
    "print(type(g))"
   ]
  },
  {
   "cell_type": "code",
   "execution_count": 27,
   "id": "4f0db21c",
   "metadata": {},
   "outputs": [
    {
     "name": "stdout",
     "output_type": "stream",
     "text": [
      "range(0, 10)\n",
      "<class 'range'>\n"
     ]
    }
   ],
   "source": [
    "# Range\n",
    "h = range(10)\n",
    "print(h)\n",
    "print(type(h))"
   ]
  },
  {
   "cell_type": "code",
   "execution_count": 30,
   "id": "4917591f",
   "metadata": {},
   "outputs": [
    {
     "name": "stdout",
     "output_type": "stream",
     "text": [
      "{'name': 'John', 'age': 30}\n",
      "<class 'dict'>\n"
     ]
    }
   ],
   "source": [
    "# Dictionary\n",
    "i = {\"name\": \"John\", \"age\": 30}\n",
    "print(i)\n",
    "print(type(i))"
   ]
  },
  {
   "cell_type": "code",
   "execution_count": 31,
   "id": "f4961f31",
   "metadata": {},
   "outputs": [
    {
     "name": "stdout",
     "output_type": "stream",
     "text": [
      "{'linux', 'mac', 'windows'}\n",
      "<class 'set'>\n"
     ]
    }
   ],
   "source": [
    "# Set Types: set, frozenset\n",
    "\n",
    "# Set\n",
    "j = {\"windows\", \"mac\", \"linux\"}\n",
    "print(j)\n",
    "print(type(j))"
   ]
  },
  {
   "cell_type": "code",
   "execution_count": 32,
   "id": "10e3437c",
   "metadata": {},
   "outputs": [
    {
     "name": "stdout",
     "output_type": "stream",
     "text": [
      "frozenset({'linux', 'mac', 'windows'})\n",
      "<class 'frozenset'>\n"
     ]
    }
   ],
   "source": [
    "# Frozenset\n",
    "k = frozenset({\"windows\", \"mac\", \"linux\"})\n",
    "print(k)\n",
    "print(type(k))"
   ]
  },
  {
   "cell_type": "code",
   "execution_count": 34,
   "id": "054ce526",
   "metadata": {},
   "outputs": [
    {
     "name": "stdout",
     "output_type": "stream",
     "text": [
      "True\n",
      "<class 'bool'>\n",
      "False\n",
      "<class 'bool'>\n"
     ]
    }
   ],
   "source": [
    "# Boolean\n",
    "l = True\n",
    "print(l)\n",
    "print(type(l))\n",
    "\n",
    "m = False\n",
    "print(m)\n",
    "print(type(m))"
   ]
  },
  {
   "cell_type": "code",
   "execution_count": 36,
   "id": "2c4a6d47",
   "metadata": {},
   "outputs": [
    {
     "name": "stdout",
     "output_type": "stream",
     "text": [
      "b'hello world'\n",
      "<class 'bytes'>\n"
     ]
    }
   ],
   "source": [
    "# Binary Types: bytes, bytearray, memoryview\n",
    "\n",
    "# Bytes\n",
    "n = b\"hello world\"\n",
    "print(n)\n",
    "print(type(n))"
   ]
  },
  {
   "cell_type": "code",
   "execution_count": 39,
   "id": "5a73d170",
   "metadata": {},
   "outputs": [
    {
     "name": "stdout",
     "output_type": "stream",
     "text": [
      "bytearray(b'\\x00\\x00')\n",
      "<class 'bytearray'>\n"
     ]
    }
   ],
   "source": [
    "# Bytearray\n",
    "o = bytearray(2)\n",
    "print(o)\n",
    "print(type(o))"
   ]
  },
  {
   "cell_type": "code",
   "execution_count": 38,
   "id": "1e6bf366",
   "metadata": {},
   "outputs": [
    {
     "name": "stdout",
     "output_type": "stream",
     "text": [
      "<memory at 0x0000014795CF2700>\n",
      "<class 'memoryview'>\n"
     ]
    }
   ],
   "source": [
    "# Memoryview\n",
    "p = memoryview(b\"hello world\")\n",
    "print(p)\n",
    "print(type(p))"
   ]
  },
  {
   "cell_type": "code",
   "execution_count": null,
   "id": "959e9008",
   "metadata": {},
   "outputs": [],
   "source": []
  }
 ],
 "metadata": {
  "kernelspec": {
   "display_name": "Python 3 (ipykernel)",
   "language": "python",
   "name": "python3"
  },
  "language_info": {
   "codemirror_mode": {
    "name": "ipython",
    "version": 3
   },
   "file_extension": ".py",
   "mimetype": "text/x-python",
   "name": "python",
   "nbconvert_exporter": "python",
   "pygments_lexer": "ipython3",
   "version": "3.9.13"
  }
 },
 "nbformat": 4,
 "nbformat_minor": 5
}
