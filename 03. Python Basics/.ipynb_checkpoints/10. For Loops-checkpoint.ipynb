{
 "cells": [
  {
   "cell_type": "code",
   "execution_count": 4,
   "id": "5d84f218",
   "metadata": {},
   "outputs": [
    {
     "name": "stdout",
     "output_type": "stream",
     "text": [
      "windows\n",
      "macOS\n",
      "linux\n"
     ]
    }
   ],
   "source": [
    "# For Loop\n",
    "\n",
    "os = (\"windows\", \"macOS\", \"linux\")\n",
    "\n",
    "for a in os:\n",
    "    print(a)"
   ]
  },
  {
   "cell_type": "code",
   "execution_count": 5,
   "id": "93a4cea5",
   "metadata": {},
   "outputs": [
    {
     "name": "stdout",
     "output_type": "stream",
     "text": [
      "w\n",
      "i\n",
      "n\n",
      "d\n",
      "o\n",
      "w\n",
      "s\n"
     ]
    }
   ],
   "source": [
    "#Looping through a string\n",
    "\n",
    "for b in \"windows\":\n",
    "    print(b)"
   ]
  },
  {
   "cell_type": "code",
   "execution_count": 7,
   "id": "6b166831",
   "metadata": {},
   "outputs": [
    {
     "name": "stdout",
     "output_type": "stream",
     "text": [
      "windows\n",
      "macOS\n"
     ]
    }
   ],
   "source": [
    "# The Break Statement (stop)\n",
    "\n",
    "os = (\"windows\", \"macOS\", \"linux\")\n",
    "\n",
    "for c in os:\n",
    "    print(c)\n",
    "    if c == \"macOS\":\n",
    "        break"
   ]
  },
  {
   "cell_type": "code",
   "execution_count": 12,
   "id": "ac6dd4cb",
   "metadata": {},
   "outputs": [
    {
     "name": "stdout",
     "output_type": "stream",
     "text": [
      "windows\n",
      "linux\n"
     ]
    }
   ],
   "source": [
    "# The continue statement (skip)\n",
    "\n",
    "os = (\"windows\", \"macOS\", \"linux\")\n",
    "\n",
    "for d in os:\n",
    "    if d == \"macOS\":\n",
    "        continue\n",
    "    print(d)"
   ]
  },
  {
   "cell_type": "code",
   "execution_count": 13,
   "id": "a6a88972",
   "metadata": {},
   "outputs": [
    {
     "name": "stdout",
     "output_type": "stream",
     "text": [
      "0\n",
      "1\n",
      "2\n",
      "3\n",
      "4\n",
      "5\n"
     ]
    }
   ],
   "source": [
    "# The range function\n",
    "\n",
    "for e in range(6):\n",
    "    print(e)\n"
   ]
  },
  {
   "cell_type": "code",
   "execution_count": null,
   "id": "1ceed4fe",
   "metadata": {},
   "outputs": [],
   "source": []
  }
 ],
 "metadata": {
  "kernelspec": {
   "display_name": "Python 3 (ipykernel)",
   "language": "python",
   "name": "python3"
  },
  "language_info": {
   "codemirror_mode": {
    "name": "ipython",
    "version": 3
   },
   "file_extension": ".py",
   "mimetype": "text/x-python",
   "name": "python",
   "nbconvert_exporter": "python",
   "pygments_lexer": "ipython3",
   "version": "3.9.13"
  }
 },
 "nbformat": 4,
 "nbformat_minor": 5
}
