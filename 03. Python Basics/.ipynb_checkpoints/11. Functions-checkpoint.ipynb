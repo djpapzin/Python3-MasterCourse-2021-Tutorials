{
 "cells": [
  {
   "cell_type": "code",
   "execution_count": 1,
   "id": "c746d2cf",
   "metadata": {},
   "outputs": [
    {
     "name": "stdout",
     "output_type": "stream",
     "text": [
      "Hello from a function\n"
     ]
    }
   ],
   "source": [
    "# Creating a function\n",
    "\n",
    "def my_function():\n",
    "    print(\"Hello from a function\")\n",
    "my_function()"
   ]
  },
  {
   "cell_type": "code",
   "execution_count": 3,
   "id": "7bdc09c5",
   "metadata": {},
   "outputs": [
    {
     "name": "stdout",
     "output_type": "stream",
     "text": [
      "John Python\n",
      "Paul Python\n",
      "Troy Python\n"
     ]
    }
   ],
   "source": [
    "# One argument/paramenter\n",
    "\n",
    "def new_function(first_name):\n",
    "    print(first_name + \" Python\")\n",
    "\n",
    "new_function(\"John\")\n",
    "new_function(\"Paul\")\n",
    "new_function(\"Troy\")"
   ]
  },
  {
   "cell_type": "code",
   "execution_count": null,
   "id": "63158097",
   "metadata": {},
   "outputs": [],
   "source": [
    "# Two arguments\n"
   ]
  }
 ],
 "metadata": {
  "kernelspec": {
   "display_name": "Python 3 (ipykernel)",
   "language": "python",
   "name": "python3"
  },
  "language_info": {
   "codemirror_mode": {
    "name": "ipython",
    "version": 3
   },
   "file_extension": ".py",
   "mimetype": "text/x-python",
   "name": "python",
   "nbconvert_exporter": "python",
   "pygments_lexer": "ipython3",
   "version": "3.9.13"
  }
 },
 "nbformat": 4,
 "nbformat_minor": 5
}
