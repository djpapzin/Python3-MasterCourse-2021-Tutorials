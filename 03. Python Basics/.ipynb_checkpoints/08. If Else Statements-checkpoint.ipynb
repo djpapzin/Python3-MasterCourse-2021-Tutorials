{
 "cells": [
  {
   "cell_type": "code",
   "execution_count": 4,
   "id": "3b66d597",
   "metadata": {},
   "outputs": [
    {
     "name": "stdout",
     "output_type": "stream",
     "text": [
      "b is greater than a\n"
     ]
    }
   ],
   "source": [
    "# if statesment\n",
    "\n",
    "a = 10\n",
    "b = 50\n",
    "\n",
    "if b > a:\n",
    "    print(\"b is greater than a\")"
   ]
  },
  {
   "cell_type": "code",
   "execution_count": 6,
   "id": "dd0ee00a",
   "metadata": {},
   "outputs": [
    {
     "name": "stdout",
     "output_type": "stream",
     "text": [
      "b is greater than a\n"
     ]
    }
   ],
   "source": [
    "# Indentation\n",
    "\n",
    "c = 40\n",
    "d = 300\n",
    "\n",
    "if b > a:\n",
    "    print(\"b is greater than a\")\n"
   ]
  },
  {
   "cell_type": "code",
   "execution_count": 19,
   "id": "7de3377d",
   "metadata": {},
   "outputs": [
    {
     "name": "stdout",
     "output_type": "stream",
     "text": [
      "f is greater than e\n"
     ]
    }
   ],
   "source": [
    "# elif\n",
    "\n",
    "e = 2\n",
    "f = 3\n",
    "\n",
    "if e > f:\n",
    "    print(\"e is greater than f\")\n",
    "elif f > e:\n",
    "    print(\"f is greater than e\")\n",
    "else:\n",
    "    print(\"f is equal to e\")\n"
   ]
  },
  {
   "cell_type": "code",
   "execution_count": 24,
   "id": "6f044a9d",
   "metadata": {},
   "outputs": [
    {
     "name": "stdout",
     "output_type": "stream",
     "text": [
      "h is not greater than g\n"
     ]
    }
   ],
   "source": [
    "# else\n",
    "\n",
    "g = 300\n",
    "h = 200\n",
    "\n",
    "if h > g:\n",
    "    print(\"h is greater than g\")\n",
    "elif g == h:\n",
    "    print(\"g is equal to h\")\n",
    "else:\n",
    "    print(\"h is not greater than g\")"
   ]
  },
  {
   "cell_type": "code",
   "execution_count": 29,
   "id": "6ac9287a",
   "metadata": {},
   "outputs": [
    {
     "name": "stdout",
     "output_type": "stream",
     "text": [
      "Both conditions are true\n",
      "At least one condition is true\n"
     ]
    }
   ],
   "source": [
    "i = 400\n",
    "j = 40\n",
    "k = 800\n",
    "\n",
    "if i > j and k > i:\n",
    "    print(\"Both conditions are true\")\n",
    "if i > j or k < i:\n",
    "    print(\"At least one condition is true\")"
   ]
  },
  {
   "cell_type": "code",
   "execution_count": 33,
   "id": "96004151",
   "metadata": {},
   "outputs": [
    {
     "name": "stdout",
     "output_type": "stream",
     "text": [
      "above 10\n",
      "but not above 20\n"
     ]
    }
   ],
   "source": [
    "# nested if statements\n",
    "\n",
    "l = 20\n",
    "\n",
    "if l > 10:\n",
    "    print(\"above 10\")    \n",
    "    if l > 20:\n",
    "        print(\"and also above 20\")\n",
    "    else:\n",
    "        print(\"but not above 20\")"
   ]
  },
  {
   "cell_type": "code",
   "execution_count": 34,
   "id": "4b001723",
   "metadata": {},
   "outputs": [],
   "source": [
    "# pass statement\n",
    "\n",
    "m = 30\n",
    "n = 100\n",
    "\n",
    "if n > m:\n",
    "    pass\n"
   ]
  },
  {
   "cell_type": "code",
   "execution_count": null,
   "id": "a3138e9b",
   "metadata": {},
   "outputs": [],
   "source": []
  }
 ],
 "metadata": {
  "kernelspec": {
   "display_name": "Python 3 (ipykernel)",
   "language": "python",
   "name": "python3"
  },
  "language_info": {
   "codemirror_mode": {
    "name": "ipython",
    "version": 3
   },
   "file_extension": ".py",
   "mimetype": "text/x-python",
   "name": "python",
   "nbconvert_exporter": "python",
   "pygments_lexer": "ipython3",
   "version": "3.9.13"
  }
 },
 "nbformat": 4,
 "nbformat_minor": 5
}
