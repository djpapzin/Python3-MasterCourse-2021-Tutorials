{
 "cells": [
  {
   "cell_type": "code",
   "execution_count": 1,
   "id": "c746d2cf",
   "metadata": {},
   "outputs": [
    {
     "name": "stdout",
     "output_type": "stream",
     "text": [
      "Hello from a function\n"
     ]
    }
   ],
   "source": [
    "# Creating a function\n",
    "\n",
    "def my_function():\n",
    "    print(\"Hello from a function\")\n",
    "my_function()"
   ]
  },
  {
   "cell_type": "code",
   "execution_count": 1,
   "id": "7bdc09c5",
   "metadata": {},
   "outputs": [
    {
     "name": "stdout",
     "output_type": "stream",
     "text": [
      "John Python\n",
      "Paul Python\n",
      "Troy Python\n"
     ]
    }
   ],
   "source": [
    "# One argument/paramenter\n",
    "\n",
    "def one_function(first_name):\n",
    "    print(first_name + \" Python\")\n",
    "\n",
    "one_function(\"John\")\n",
    "one_function(\"Paul\")\n",
    "one_function(\"Troy\")"
   ]
  },
  {
   "cell_type": "code",
   "execution_count": 3,
   "id": "63158097",
   "metadata": {},
   "outputs": [
    {
     "name": "stdout",
     "output_type": "stream",
     "text": [
      "John Python\n"
     ]
    }
   ],
   "source": [
    "# Two arguments/paramenters\n",
    "def two_function(first_name, last_name):\n",
    "    print(first_name + \" \" + last_name)\n",
    "    \n",
    "two_function(\"John\", \"Python\")"
   ]
  },
  {
   "cell_type": "code",
   "execution_count": 7,
   "id": "6f285e61",
   "metadata": {},
   "outputs": [
    {
     "name": "stdout",
     "output_type": "stream",
     "text": [
      " The youngest child is Mike\n"
     ]
    }
   ],
   "source": [
    "# *kwargs\n",
    "def kwargs_function(*kids):\n",
    "    print(\" The youngest child is \" + kids[3])\n",
    "\n",
    "kwargs_function(\"John\", \"Paul\", \"Troy\", \"Mike\")\n"
   ]
  },
  {
   "cell_type": "code",
   "execution_count": 12,
   "id": "8a73ebc0",
   "metadata": {},
   "outputs": [
    {
     "name": "stdout",
     "output_type": "stream",
     "text": [
      "The youngest child is Steve\n"
     ]
    }
   ],
   "source": [
    "# *kwargs\n",
    "def kwargs_function(child4, child3, child2, child1):\n",
    "    print(\"The youngest child is \" + child4)\n",
    "    \n",
    "kwargs2_function(child1 = \"John\", child2 = \"Paul\", child3 = \"Troy\", child4=\"Steve\")"
   ]
  },
  {
   "cell_type": "code",
   "execution_count": 17,
   "id": "2267015c",
   "metadata": {},
   "outputs": [
    {
     "name": "stdout",
     "output_type": "stream",
     "text": [
      "His last name is: Python\n"
     ]
    }
   ],
   "source": [
    "# **kwargs\n",
    "\n",
    "def kwargs_function(**kid):\n",
    "    print(\"His last name is: \" + kid[\"last_name\"])\n",
    "    \n",
    "kwargs_function(first_name = \"John\", last_name = \"Python\")"
   ]
  },
  {
   "cell_type": "code",
   "execution_count": 18,
   "id": "9790cec7",
   "metadata": {},
   "outputs": [
    {
     "name": "stdout",
     "output_type": "stream",
     "text": [
      "apple\n",
      "banana\n",
      "cherry\n"
     ]
    }
   ],
   "source": [
    "# Passing a list as an argument\n",
    "\n",
    "def my_function(food):\n",
    "    for x in food:\n",
    "        print(x)\n",
    "\n",
    "fruits = [\"apple\", \"banana\", \"cherry\"]\n",
    "my_function(fruits)"
   ]
  },
  {
   "cell_type": "code",
   "execution_count": 20,
   "id": "7f354b7d",
   "metadata": {},
   "outputs": [
    {
     "data": {
      "text/plain": [
       "200"
      ]
     },
     "execution_count": 20,
     "metadata": {},
     "output_type": "execute_result"
    }
   ],
   "source": [
    "def my_function(x):\n",
    "    return 10 * x\n",
    "\n",
    "my_function(20)\n"
   ]
  },
  {
   "cell_type": "code",
   "execution_count": 22,
   "id": "26033d4e",
   "metadata": {},
   "outputs": [],
   "source": [
    "def my_function():\n",
    "    pass"
   ]
  },
  {
   "cell_type": "code",
   "execution_count": 31,
   "id": "23f07bf9",
   "metadata": {},
   "outputs": [
    {
     "name": "stdout",
     "output_type": "stream",
     "text": [
      "Recursion Example Results:\n",
      "1\n",
      "3\n",
      "6\n",
      "10\n",
      "15\n",
      "21\n"
     ]
    },
    {
     "data": {
      "text/plain": [
       "21"
      ]
     },
     "execution_count": 31,
     "metadata": {},
     "output_type": "execute_result"
    }
   ],
   "source": [
    "# Recursion\n",
    "\n",
    "def tri_recursion(k):\n",
    "    if(k>0):\n",
    "        result = k+tri_recursion(k-1)\n",
    "        print(result)\n",
    "    else:\n",
    "        result = 0\n",
    "    return result\n",
    "\n",
    "print(\"Recursion Example Results:\")\n",
    "tri_recursion(6)"
   ]
  },
  {
   "cell_type": "code",
   "execution_count": 32,
   "id": "19760379",
   "metadata": {},
   "outputs": [
    {
     "name": "stdout",
     "output_type": "stream",
     "text": [
      "Hello from a function\n"
     ]
    }
   ],
   "source": [
    "def my_function():\n",
    "\n",
    "  print(\"Hello from a function\")\n",
    "\n",
    "my_function()"
   ]
  },
  {
   "cell_type": "code",
   "execution_count": 33,
   "id": "bcab3172",
   "metadata": {},
   "outputs": [],
   "source": [
    "def my_function(fname, lname):\n",
    "\n",
    "  print(fname)"
   ]
  },
  {
   "cell_type": "code",
   "execution_count": null,
   "id": "fb39623d",
   "metadata": {},
   "outputs": [],
   "source": []
  }
 ],
 "metadata": {
  "kernelspec": {
   "display_name": "Python 3 (ipykernel)",
   "language": "python",
   "name": "python3"
  },
  "language_info": {
   "codemirror_mode": {
    "name": "ipython",
    "version": 3
   },
   "file_extension": ".py",
   "mimetype": "text/x-python",
   "name": "python",
   "nbconvert_exporter": "python",
   "pygments_lexer": "ipython3",
   "version": "3.11.3"
  }
 },
 "nbformat": 4,
 "nbformat_minor": 5
}
