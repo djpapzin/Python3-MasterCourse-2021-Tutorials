{
 "cells": [
  {
   "cell_type": "code",
   "execution_count": 1,
   "metadata": {},
   "outputs": [
    {
     "name": "stdout",
     "output_type": "stream",
     "text": [
      "['windows', 'apple', 'linux']\n"
     ]
    }
   ],
   "source": [
    "ourlist = [\"windows\", \"apple\", \"linux\"]\n",
    "print(ourlist)"
   ]
  },
  {
   "cell_type": "code",
   "execution_count": 2,
   "metadata": {},
   "outputs": [
    {
     "name": "stdout",
     "output_type": "stream",
     "text": [
      "['Google', 'Microsoft', 'Twitter', 'Facebook', 'Google', 'Twitter']\n"
     ]
    }
   ],
   "source": [
    "# Allow Duplicate Values\n",
    "ourlist = [\"Google\",\"Microsoft\", \"Twitter\", \"Facebook\", \"Google\", \"Twitter\"]\n",
    "print(ourlist)"
   ]
  },
  {
   "cell_type": "code",
   "execution_count": 2,
   "metadata": {},
   "outputs": [
    {
     "name": "stdout",
     "output_type": "stream",
     "text": [
      "6\n"
     ]
    }
   ],
   "source": [
    "# Checking Length\n",
    "ourlist = [\"Google\",\"Microsoft\", \"Twitter\", \"Facebook\", \"Google\", \"Twitter\"]\n",
    "print(len(ourlist))\n"
   ]
  },
  {
   "cell_type": "code",
   "execution_count": 4,
   "metadata": {},
   "outputs": [
    {
     "name": "stdout",
     "output_type": "stream",
     "text": [
      "Twitter\n"
     ]
    }
   ],
   "source": [
    "# Indexing\n",
    "\n",
    "ourlist = [\"Google\",\"Microsoft\", \"Twitter\", \"Facebook\", \"Google\", \"Twitter\"]\n",
    "\n",
    "print(ourlist[2])"
   ]
  },
  {
   "cell_type": "code",
   "execution_count": 12,
   "metadata": {},
   "outputs": [
    {
     "name": "stdout",
     "output_type": "stream",
     "text": [
      "Microsoft\n"
     ]
    }
   ],
   "source": [
    "# negative indexing\n",
    "\n",
    "ourlist = [\"Google\",\"Microsoft\", \"Twitter\", \"Facebook\", \"Google\", \"Twitter\"]\n",
    "\n",
    "print(ourlist[1])"
   ]
  },
  {
   "cell_type": "code",
   "execution_count": 13,
   "metadata": {},
   "outputs": [
    {
     "name": "stdout",
     "output_type": "stream",
     "text": [
      "['Microsoft', 'Twitter', 'Facebook']\n"
     ]
    }
   ],
   "source": [
    "# range \n",
    "\n",
    "ourlist = [\"Google\",\"Microsoft\", \"Twitter\", \"Facebook\", \"Google\", \"Twitter\"]\n",
    "print(ourlist[1:4])"
   ]
  },
  {
   "cell_type": "code",
   "execution_count": 23,
   "metadata": {},
   "outputs": [
    {
     "name": "stdout",
     "output_type": "stream",
     "text": [
      "['Facebook', 'Google']\n"
     ]
    }
   ],
   "source": [
    "# negative range \n",
    "\n",
    "ourlist = [\"Google\",\"Microsoft\", \"Twitter\", \"Facebook\", \"Google\", \"Twitter\"]\n",
    "\n",
    "print(ourlist[-3:-1])"
   ]
  },
  {
   "cell_type": "code",
   "execution_count": 24,
   "metadata": {},
   "outputs": [
    {
     "name": "stdout",
     "output_type": "stream",
     "text": [
      "Yes, Google is in the list\n"
     ]
    }
   ],
   "source": [
    "# Checking for Existence\n",
    "\n",
    "ourlist = [\"Google\",\"Microsoft\", \"Twitter\", \"Facebook\", \"Google\", \"Twitter\"]\n",
    "\n",
    "if \"Google\" in ourlist:\n",
    "    print(\"Yes, Google is in the list\")"
   ]
  },
  {
   "cell_type": "code",
   "execution_count": 26,
   "metadata": {},
   "outputs": [
    {
     "name": "stdout",
     "output_type": "stream",
     "text": [
      "['Google', 'Tiktok', 'Facebook', 'Google', 'Twitter']\n"
     ]
    }
   ],
   "source": [
    "# change item value\n",
    "\n",
    "ourlist = [\"Google\", \"Youtube\", \"Facebook\", \"Google\", \"Twitter\"]\n",
    "\n",
    "ourlist[1] = \"Tiktok\"\n",
    "\n",
    "print(ourlist)"
   ]
  },
  {
   "cell_type": "code",
   "execution_count": 30,
   "metadata": {},
   "outputs": [
    {
     "name": "stdout",
     "output_type": "stream",
     "text": [
      "['Yahoo', 'LinkedIn', 'Amazon', 'Tiktok', 'Google', 'Twitter']\n"
     ]
    }
   ],
   "source": [
    "# change a range of item valuesS\n",
    "\n",
    "ourlist = [\"Google\", \"Youtube\", \"Facebook\", \"Google\", \"Twitter\"]\n",
    "\n",
    "ourlist[0:3] = [\"Yahoo\", \"LinkedIn\", \"Amazon\", \"Tiktok\"]\n",
    "\n",
    "print(ourlist)"
   ]
  },
  {
   "cell_type": "code",
   "execution_count": 31,
   "metadata": {},
   "outputs": [
    {
     "name": "stdout",
     "output_type": "stream",
     "text": [
      "['Google', 'Youtube', 'Facebook', 'Google', 'Twitter', 'Linkedin']\n"
     ]
    }
   ],
   "source": [
    "# add list items using insert() method\n",
    "\n",
    "ourlist = [\"Google\", \"Youtube\", \"Facebook\", \"Google\", \"Twitter\"]\n",
    "ourlist.append(\"Linkedin\")\n",
    "\n",
    "print(ourlist)\n"
   ]
  },
  {
   "cell_type": "code",
   "execution_count": 33,
   "metadata": {},
   "outputs": [
    {
     "name": "stdout",
     "output_type": "stream",
     "text": [
      "['Google', 'Amazon', 'Youtube', 'Facebook', 'Google', 'Twitter']\n"
     ]
    }
   ],
   "source": [
    "# add list items using insert() method\n",
    "\n",
    "ourlist = [\"Google\", \"Youtube\", \"Facebook\", \"Google\", \"Twitter\"]\n",
    "\n",
    "ourlist.insert(1, \"Amazon\")\n",
    "\n",
    "print(ourlist)"
   ]
  },
  {
   "cell_type": "code",
   "execution_count": 1,
   "metadata": {},
   "outputs": [
    {
     "name": "stdout",
     "output_type": "stream",
     "text": [
      "['Google', 'Youtube', 'Facebook', 'Twitter', 'Amazon', 'Tiktok']\n"
     ]
    }
   ],
   "source": [
    "# add list items using extend() method\n",
    "\n",
    "ourlist = [\"Google\", \"Youtube\", \"Facebook\", \"Twitter\"]\n",
    "\n",
    "mylist = [\"Amazon\", \"Tiktok\"]\n",
    "\n",
    "ourlist.extend(mylist)\n",
    "\n",
    "print(ourlist)"
   ]
  },
  {
   "cell_type": "code",
   "execution_count": null,
   "metadata": {},
   "outputs": [],
   "source": []
  }
 ],
 "metadata": {
  "kernelspec": {
   "display_name": "Python 3",
   "language": "python",
   "name": "python3"
  },
  "language_info": {
   "codemirror_mode": {
    "name": "ipython",
    "version": 3
   },
   "file_extension": ".py",
   "mimetype": "text/x-python",
   "name": "python",
   "nbconvert_exporter": "python",
   "pygments_lexer": "ipython3",
   "version": "3.10.11"
  },
  "orig_nbformat": 4
 },
 "nbformat": 4,
 "nbformat_minor": 2
}
