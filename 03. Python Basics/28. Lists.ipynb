{
 "cells": [
  {
   "cell_type": "code",
   "execution_count": 1,
   "metadata": {},
   "outputs": [
    {
     "name": "stdout",
     "output_type": "stream",
     "text": [
      "['windows', 'apple', 'linux']\n"
     ]
    }
   ],
   "source": [
    "ourlist = [\"windows\", \"apple\", \"linux\"]\n",
    "print(ourlist)"
   ]
  },
  {
   "cell_type": "code",
   "execution_count": 2,
   "metadata": {},
   "outputs": [
    {
     "name": "stdout",
     "output_type": "stream",
     "text": [
      "['Google', 'Microsoft', 'Twitter', 'Facebook', 'Google', 'Twitter']\n"
     ]
    }
   ],
   "source": [
    "# Allow Duplicate Values\n",
    "ourlist = [\"Google\",\"Microsoft\", \"Twitter\", \"Facebook\", \"Google\", \"Twitter\"]\n",
    "print(ourlist)"
   ]
  },
  {
   "cell_type": "code",
   "execution_count": 2,
   "metadata": {},
   "outputs": [
    {
     "name": "stdout",
     "output_type": "stream",
     "text": [
      "6\n"
     ]
    }
   ],
   "source": [
    "# Checking Length\n",
    "ourlist = [\"Google\",\"Microsoft\", \"Twitter\", \"Facebook\", \"Google\", \"Twitter\"]\n",
    "print(len(ourlist))\n"
   ]
  },
  {
   "cell_type": "code",
   "execution_count": 4,
   "metadata": {},
   "outputs": [
    {
     "name": "stdout",
     "output_type": "stream",
     "text": [
      "Twitter\n"
     ]
    }
   ],
   "source": [
    "# Indexing\n",
    "\n",
    "ourlist = [\"Google\",\"Microsoft\", \"Twitter\", \"Facebook\", \"Google\", \"Twitter\"]\n",
    "\n",
    "print(ourlist[2])"
   ]
  },
  {
   "cell_type": "code",
   "execution_count": 12,
   "metadata": {},
   "outputs": [
    {
     "name": "stdout",
     "output_type": "stream",
     "text": [
      "Microsoft\n"
     ]
    }
   ],
   "source": [
    "# negative indexing\n",
    "\n",
    "ourlist = [\"Google\",\"Microsoft\", \"Twitter\", \"Facebook\", \"Google\", \"Twitter\"]\n",
    "\n",
    "print(ourlist[1])"
   ]
  },
  {
   "cell_type": "code",
   "execution_count": 13,
   "metadata": {},
   "outputs": [
    {
     "name": "stdout",
     "output_type": "stream",
     "text": [
      "['Microsoft', 'Twitter', 'Facebook']\n"
     ]
    }
   ],
   "source": [
    "# range \n",
    "\n",
    "ourlist = [\"Google\",\"Microsoft\", \"Twitter\", \"Facebook\", \"Google\", \"Twitter\"]\n",
    "print(ourlist[1:4])"
   ]
  },
  {
   "cell_type": "code",
   "execution_count": 23,
   "metadata": {},
   "outputs": [
    {
     "name": "stdout",
     "output_type": "stream",
     "text": [
      "['Facebook', 'Google']\n"
     ]
    }
   ],
   "source": [
    "# negative range \n",
    "\n",
    "ourlist = [\"Google\",\"Microsoft\", \"Twitter\", \"Facebook\", \"Google\", \"Twitter\"]\n",
    "\n",
    "print(ourlist[-3:-1])"
   ]
  },
  {
   "cell_type": "code",
   "execution_count": 24,
   "metadata": {},
   "outputs": [
    {
     "name": "stdout",
     "output_type": "stream",
     "text": [
      "Yes, Google is in the list\n"
     ]
    }
   ],
   "source": [
    "# Checking for Existence\n",
    "\n",
    "ourlist = [\"Google\",\"Microsoft\", \"Twitter\", \"Facebook\", \"Google\", \"Twitter\"]\n",
    "\n",
    "if \"Google\" in ourlist:\n",
    "    print(\"Yes, Google is in the list\")"
   ]
  },
  {
   "cell_type": "code",
   "execution_count": 26,
   "metadata": {},
   "outputs": [
    {
     "name": "stdout",
     "output_type": "stream",
     "text": [
      "['Google', 'Tiktok', 'Facebook', 'Google', 'Twitter']\n"
     ]
    }
   ],
   "source": [
    "# change item value\n",
    "\n",
    "ourlist = [\"Google\", \"Youtube\", \"Facebook\", \"Google\", \"Twitter\"]\n",
    "\n",
    "ourlist[1] = \"Tiktok\"\n",
    "\n",
    "print(ourlist)"
   ]
  },
  {
   "cell_type": "code",
   "execution_count": 30,
   "metadata": {},
   "outputs": [
    {
     "name": "stdout",
     "output_type": "stream",
     "text": [
      "['Yahoo', 'LinkedIn', 'Amazon', 'Tiktok', 'Google', 'Twitter']\n"
     ]
    }
   ],
   "source": [
    "# change a range of item valuesS\n",
    "\n",
    "ourlist = [\"Google\", \"Youtube\", \"Facebook\", \"Google\", \"Twitter\"]\n",
    "\n",
    "ourlist[0:3] = [\"Yahoo\", \"LinkedIn\", \"Amazon\", \"Tiktok\"]\n",
    "\n",
    "print(ourlist)"
   ]
  },
  {
   "cell_type": "code",
   "execution_count": 31,
   "metadata": {},
   "outputs": [
    {
     "name": "stdout",
     "output_type": "stream",
     "text": [
      "['Google', 'Youtube', 'Facebook', 'Google', 'Twitter', 'Linkedin']\n"
     ]
    }
   ],
   "source": [
    "# add list items using insert() method\n",
    "\n",
    "ourlist = [\"Google\", \"Youtube\", \"Facebook\", \"Google\", \"Twitter\"]\n",
    "ourlist.append(\"Linkedin\")\n",
    "\n",
    "print(ourlist)\n"
   ]
  },
  {
   "cell_type": "code",
   "execution_count": 33,
   "metadata": {},
   "outputs": [
    {
     "name": "stdout",
     "output_type": "stream",
     "text": [
      "['Google', 'Amazon', 'Youtube', 'Facebook', 'Google', 'Twitter']\n"
     ]
    }
   ],
   "source": [
    "# add list items using insert() method\n",
    "\n",
    "ourlist = [\"Google\", \"Youtube\", \"Facebook\", \"Google\", \"Twitter\"]\n",
    "\n",
    "ourlist.insert(1, \"Amazon\")\n",
    "\n",
    "print(ourlist)"
   ]
  },
  {
   "cell_type": "code",
   "execution_count": 1,
   "metadata": {},
   "outputs": [
    {
     "name": "stdout",
     "output_type": "stream",
     "text": [
      "['Google', 'Youtube', 'Facebook', 'Twitter', 'Amazon', 'Tiktok']\n"
     ]
    }
   ],
   "source": [
    "# add list items using extend() method\n",
    "\n",
    "ourlist = [\"Google\", \"Youtube\", \"Facebook\", \"Twitter\"]\n",
    "\n",
    "mylist = [\"Amazon\", \"Tiktok\"]\n",
    "\n",
    "ourlist.extend(mylist)\n",
    "\n",
    "print(ourlist)"
   ]
  },
  {
   "cell_type": "code",
   "execution_count": 1,
   "metadata": {},
   "outputs": [
    {
     "name": "stdout",
     "output_type": "stream",
     "text": [
      "Google\n",
      "Youtube\n",
      "Facebook\n",
      "Google\n",
      "Twitter\n"
     ]
    }
   ],
   "source": [
    "# Loop Lists\n",
    "\n",
    "ourlist = [\"Google\", \"Youtube\", \"Facebook\", \"Google\", \"Twitter\"]\n",
    "\n",
    "for x in ourlist:\n",
    "    print(x)    "
   ]
  },
  {
   "cell_type": "code",
   "execution_count": 18,
   "metadata": {},
   "outputs": [
    {
     "name": "stdout",
     "output_type": "stream",
     "text": [
      "Google\n",
      "Youtube\n",
      "Facebook\n",
      "Google\n",
      "Twitter\n"
     ]
    }
   ],
   "source": [
    "# Loop list using itheir indexes\n",
    "ourlist = [\"Google\", \"Youtube\", \"Facebook\", \"Google\", \"Twitter\"]\n",
    "\n",
    "for i in range(len(ourlist)):\n",
    "    print(ourlist[i])"
   ]
  },
  {
   "cell_type": "code",
   "execution_count": 20,
   "metadata": {},
   "outputs": [
    {
     "name": "stdout",
     "output_type": "stream",
     "text": [
      "Google\n",
      "Youtube\n",
      "Facebook\n",
      "Google\n",
      "Twitter\n"
     ]
    }
   ],
   "source": [
    "# Loop list using While Loop\n",
    "\n",
    "ourlist = [\"Google\", \"Youtube\", \"Facebook\", \"Google\", \"Twitter\"]\n",
    "i = 0\n",
    "\n",
    "while i < len(ourlist):\n",
    "    print(ourlist[i])\n",
    "    i += 1 "
   ]
  },
  {
   "cell_type": "code",
   "execution_count": 25,
   "metadata": {},
   "outputs": [
    {
     "name": "stdout",
     "output_type": "stream",
     "text": [
      "Google\n",
      "Youtube\n",
      "Facebook\n",
      "Google\n",
      "Twitter\n"
     ]
    },
    {
     "data": {
      "text/plain": [
       "[None, None, None, None, None]"
      ]
     },
     "execution_count": 25,
     "metadata": {},
     "output_type": "execute_result"
    },
    {
     "ename": "",
     "evalue": "",
     "output_type": "error",
     "traceback": [
      "\u001b[1;31mThe Kernel crashed while executing code in the the current cell or a previous cell. Please review the code in the cell(s) to identify a possible cause of the failure. Click <a href='https://aka.ms/vscodeJupyterKernelCrash'>here</a> for more info. View Jupyter <a href='command:jupyter.viewOutput'>log</a> for further details."
     ]
    }
   ],
   "source": [
    "# Looping through lists (shirthand)\n",
    "\n",
    "ourlist = [\"Google\", \"Youtube\", \"Facebook\", \"Google\", \"Twitter\"]\n",
    "[print(x) for x in ourlist]"
   ]
  },
  {
   "cell_type": "code",
   "execution_count": 6,
   "metadata": {},
   "outputs": [
    {
     "name": "stdout",
     "output_type": "stream",
     "text": [
      "['Facebook']\n"
     ]
    }
   ],
   "source": [
    "# List comprehensions\n",
    "\n",
    "ourlist = [\"Google\", \"Youtube\", \"Facebook\", \"Tiktok\", \"Twitter\"]\n",
    "newlist = [x for x in ourlist if \"a\" in x]\n",
    "print(newlist)"
   ]
  },
  {
   "cell_type": "code",
   "execution_count": 1,
   "metadata": {},
   "outputs": [
    {
     "name": "stdout",
     "output_type": "stream",
     "text": [
      "['Facebook', 'Google', 'Tiktok', 'Twitter', 'Youtube']\n"
     ]
    }
   ],
   "source": [
    "# Sort list alphabetically\n",
    "ourlist = [\"Google\", \"Youtube\", \"Facebook\", \"Tiktok\", \"Twitter\"]\n",
    "ourlist.sort()\n",
    "print(ourlist)"
   ]
  },
  {
   "cell_type": "code",
   "execution_count": 4,
   "metadata": {},
   "outputs": [
    {
     "name": "stdout",
     "output_type": "stream",
     "text": [
      "[10, 43, 74, 223, 345, 544, 654, 833, 944, 1230]\n"
     ]
    }
   ],
   "source": [
    "# Sort list numerically\n",
    "ourlist = [10,223,345,43,544,654,74,833,944,1230]\n",
    "ourlist.sort()\n",
    "print(ourlist)\n"
   ]
  },
  {
   "cell_type": "code",
   "execution_count": 5,
   "metadata": {},
   "outputs": [
    {
     "name": "stdout",
     "output_type": "stream",
     "text": [
      "[1230, 944, 833, 654, 544, 345, 223, 74, 43, 10]\n"
     ]
    }
   ],
   "source": [
    "# Sort list numerically (reverse)\n",
    "ourlist = [10,223,345,43,544,654,74,833,944,1230]\n",
    "ourlist.sort(reverse=True)\n",
    "print(ourlist)\n"
   ]
  },
  {
   "cell_type": "code",
   "execution_count": 6,
   "metadata": {},
   "outputs": [
    {
     "name": "stdout",
     "output_type": "stream",
     "text": [
      "[50, 78, 20, 6, 1, 100]\n"
     ]
    }
   ],
   "source": [
    "# Sorting using customs keys\n",
    "def myfunction(n):\n",
    "    return abs (n-50)\n",
    "\n",
    "mylist = [100,50,6,78,20,1]\n",
    "mylist.sort(key=myfunction)\n",
    "print(mylist)"
   ]
  },
  {
   "cell_type": "code",
   "execution_count": null,
   "metadata": {},
   "outputs": [],
   "source": []
  }
 ],
 "metadata": {
  "kernelspec": {
   "display_name": "Python 3",
   "language": "python",
   "name": "python3"
  },
  "language_info": {
   "codemirror_mode": {
    "name": "ipython",
    "version": 3
   },
   "file_extension": ".py",
   "mimetype": "text/x-python",
   "name": "python",
   "nbconvert_exporter": "python",
   "pygments_lexer": "ipython3",
   "version": "3.10.11"
  },
  "orig_nbformat": 4
 },
 "nbformat": 4,
 "nbformat_minor": 2
}
