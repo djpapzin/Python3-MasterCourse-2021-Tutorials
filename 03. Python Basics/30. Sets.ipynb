{
 "cells": [
  {
   "cell_type": "code",
   "execution_count": 5,
   "metadata": {},
   "outputs": [
    {
     "name": "stdout",
     "output_type": "stream",
     "text": [
      "{'Facebook', 'Google', 'Youtube'}\n"
     ]
    }
   ],
   "source": [
    "myset = {\"Youtube\", \"Google\", \"Facebook\"}\n",
    "print(myset)"
   ]
  },
  {
   "cell_type": "code",
   "execution_count": 1,
   "metadata": {},
   "outputs": [
    {
     "name": "stdout",
     "output_type": "stream",
     "text": [
      "{'Facebook', 'Google'}\n"
     ]
    }
   ],
   "source": [
    "# The remove method\n",
    "\n",
    "myset = {\"Youtube\", \"Google\", \"Facebook\"}\n",
    "\n",
    "myset.remove(\"Youtube\")\n",
    "\n",
    "print(myset)"
   ]
  },
  {
   "cell_type": "code",
   "execution_count": 4,
   "metadata": {},
   "outputs": [
    {
     "name": "stdout",
     "output_type": "stream",
     "text": [
      "{'Facebook', 'Google'}\n"
     ]
    }
   ],
   "source": [
    "# The discard method\n",
    "myset = {\"Youtube\", \"Google\", \"Facebook\"}\n",
    "myset.discard(\"Youtube\")\n",
    "print(myset)"
   ]
  },
  {
   "cell_type": "code",
   "execution_count": 3,
   "metadata": {},
   "outputs": [
    {
     "name": "stdout",
     "output_type": "stream",
     "text": [
      "{'Google', 'Facebook', 'Youtube'}\n",
      "set()\n"
     ]
    }
   ],
   "source": [
    "# The clear method\n",
    "myset = {\"Youtube\", \"Google\", \"Facebook\"}\n",
    "print(myset)\n",
    "myset.clear()\n",
    "print(myset)\n"
   ]
  },
  {
   "cell_type": "code",
   "execution_count": null,
   "metadata": {},
   "outputs": [],
   "source": [
    "# The delete method\n",
    "myset = {\"Youtube\", \"Google\", \"Facebook\"}\n",
    "\n",
    "del myset\n",
    "\n",
    "print (myset)\n"
   ]
  },
  {
   "cell_type": "code",
   "execution_count": 2,
   "metadata": {},
   "outputs": [
    {
     "name": "stdout",
     "output_type": "stream",
     "text": [
      "Google\n",
      "Youtube\n",
      "Facebook\n"
     ]
    }
   ],
   "source": [
    "# Loop Sets\n",
    "myset = {\"Youtube\", \"Google\", \"Facebook\"}\n",
    "\n",
    "for x in myset:\n",
    "    print(x)"
   ]
  },
  {
   "cell_type": "code",
   "execution_count": 9,
   "metadata": {},
   "outputs": [
    {
     "name": "stdout",
     "output_type": "stream",
     "text": [
      "{'Google', 'Twitter', 'Instagram', 'Facebook', 'Youtube'}\n"
     ]
    }
   ],
   "source": [
    "# Join sets using the update method\n",
    "\n",
    "myset = {\"Youtube\", \"Google\", \"Facebook\"}\n",
    "\n",
    "myset2 = {\"Twitter\", \"Instagram\"}\n",
    "\n",
    "myset.update(myset2)\n",
    "print(myset)"
   ]
  },
  {
   "cell_type": "code",
   "execution_count": 6,
   "metadata": {},
   "outputs": [
    {
     "name": "stdout",
     "output_type": "stream",
     "text": [
      "{'Google', 'Twitter', 'Facebook', 'LinkedIn', 'Youtube'}\n"
     ]
    }
   ],
   "source": [
    "# Join sets using the union method\n",
    "myset = {\"Youtube\", \"Google\", \"Facebook\"}\n",
    "\n",
    "myset2 = {\"Twitter\", \"LinkedIn\"}\n",
    "\n",
    "myset3 = myset.union(myset2)\n",
    "\n",
    "print(myset3)"
   ]
  },
  {
   "cell_type": "code",
   "execution_count": 10,
   "metadata": {},
   "outputs": [
    {
     "name": "stdout",
     "output_type": "stream",
     "text": [
      "{'Google', 'Twitter', 'Instagram', 'Facebook', 'Youtube'}\n"
     ]
    }
   ],
   "source": [
    "# Join sets using the union operator\n",
    "\n",
    "myset = {\"Youtube\", \"Google\", \"Facebook\"}\n",
    "myset2 = {\"Twitter\", \"Instagram\"}\n",
    "\n",
    "myset3 = myset | myset2\n",
    "print(myset3)  # Output: {'Youtube', 'Google', 'Facebook', 'Twitter', 'Instagram'}\n"
   ]
  },
  {
   "cell_type": "code",
   "execution_count": 14,
   "metadata": {},
   "outputs": [
    {
     "name": "stdout",
     "output_type": "stream",
     "text": [
      "{'Facebook'}\n"
     ]
    }
   ],
   "source": [
    "# Join sets using the intersection_update method\n",
    "myset = {\"Youtube\", \"Google\", \"Facebook\"}\n",
    "myset2 = {\"Facebook\"}\n",
    "myset3 = {\"Youtube\", \"Facebook\"}\n",
    "\n",
    "myset.intersection_update(myset2, myset3)\n",
    "\n",
    "print(myset)"
   ]
  },
  {
   "cell_type": "code",
   "execution_count": 18,
   "metadata": {},
   "outputs": [
    {
     "name": "stdout",
     "output_type": "stream",
     "text": [
      "{'Youtube', 'Facebook'}\n"
     ]
    }
   ],
   "source": [
    "# Join sets using the intersection method\n",
    "myset = {\"Youtube\", \"Google\", \"Facebook\"}\n",
    "myset2 = {\"Facebook\", \"Youtube\", \"Facebook\"}\n",
    "\n",
    "myset3= myset.intersection(myset2)\n",
    "\n",
    "print(myset3)"
   ]
  },
  {
   "cell_type": "code",
   "execution_count": 20,
   "metadata": {},
   "outputs": [
    {
     "name": "stdout",
     "output_type": "stream",
     "text": [
      "{1, 2, 3}\n"
     ]
    }
   ],
   "source": [
    "# add(element) - Adds an element to the set.\n",
    "myset = {1, 2}\n",
    "myset.add(3)\n",
    "print(myset)\n"
   ]
  },
  {
   "cell_type": "code",
   "execution_count": 21,
   "metadata": {},
   "outputs": [
    {
     "name": "stdout",
     "output_type": "stream",
     "text": [
      "set()\n"
     ]
    }
   ],
   "source": [
    "# clear() - Removes all elements from the set.\n",
    "myset = {1, 2, 3}\n",
    "myset.clear()\n",
    "print(myset)"
   ]
  },
  {
   "cell_type": "code",
   "execution_count": 22,
   "metadata": {},
   "outputs": [
    {
     "name": "stdout",
     "output_type": "stream",
     "text": [
      "{1, 2, 3}\n"
     ]
    }
   ],
   "source": [
    "# copy() - Returns a shallow copy of the set.\n",
    "myset = {1, 2, 3}\n",
    "newset = myset.copy()\n",
    "print(newset)"
   ]
  },
  {
   "cell_type": "code",
   "execution_count": 24,
   "metadata": {},
   "outputs": [
    {
     "name": "stdout",
     "output_type": "stream",
     "text": [
      "{1}\n"
     ]
    }
   ],
   "source": [
    "# difference(other_set) - Returns a set containing the difference between two sets.\n",
    "myset = {1, 2, 3}\n",
    "result = myset.difference({2, 3})\n",
    "print(result)"
   ]
  },
  {
   "cell_type": "code",
   "execution_count": 26,
   "metadata": {},
   "outputs": [
    {
     "name": "stdout",
     "output_type": "stream",
     "text": [
      "{1}\n"
     ]
    }
   ],
   "source": [
    "# difference_update(other_set) - Removes all elements found in another set from the original set.\n",
    "myset = {1, 2, 3}\n",
    "myset.difference_update({2, 3})\n",
    "print(myset)"
   ]
  },
  {
   "cell_type": "code",
   "execution_count": 28,
   "metadata": {},
   "outputs": [
    {
     "name": "stdout",
     "output_type": "stream",
     "text": [
      "{1, 3}\n"
     ]
    }
   ],
   "source": [
    "# discard(element) - Removes an element from the set if it exists.\n",
    "myset = {1, 2, 3}\n",
    "myset.discard(2)\n",
    "print(myset)"
   ]
  },
  {
   "cell_type": "code",
   "execution_count": 29,
   "metadata": {},
   "outputs": [
    {
     "name": "stdout",
     "output_type": "stream",
     "text": [
      "{2, 3}\n"
     ]
    }
   ],
   "source": [
    "# intersection(other_set) - Returns a set containing the intersection of two sets.\n",
    "myset = {1, 2, 3}\n",
    "result = myset.intersection({2, 3})\n",
    "print(result)"
   ]
  },
  {
   "cell_type": "code",
   "execution_count": 30,
   "metadata": {},
   "outputs": [
    {
     "name": "stdout",
     "output_type": "stream",
     "text": [
      "{2, 3}\n"
     ]
    }
   ],
   "source": [
    "# intersection_update(other_set) - Updates the set with the intersection of itself and another set.\n",
    "myset = {1, 2, 3}\n",
    "myset.intersection_update({2, 3})\n",
    "print(myset)"
   ]
  },
  {
   "cell_type": "code",
   "execution_count": 31,
   "metadata": {},
   "outputs": [
    {
     "name": "stdout",
     "output_type": "stream",
     "text": [
      "True\n"
     ]
    }
   ],
   "source": [
    "# isdisjoint(other_set) - Returns True if two sets have no elements in common.\n",
    "myset = {1, 2}\n",
    "result = myset.isdisjoint({3, 4})\n",
    "print(result)"
   ]
  },
  {
   "cell_type": "code",
   "execution_count": 32,
   "metadata": {},
   "outputs": [
    {
     "name": "stdout",
     "output_type": "stream",
     "text": [
      "True\n"
     ]
    }
   ],
   "source": [
    "# issubset(other_set) - Returns True if the set is a subset of another set.\n",
    "myset = {1, 2}\n",
    "result = myset.issubset({1, 2, 3})\n",
    "print(result)"
   ]
  },
  {
   "cell_type": "code",
   "execution_count": 33,
   "metadata": {},
   "outputs": [
    {
     "name": "stdout",
     "output_type": "stream",
     "text": [
      "1\n"
     ]
    }
   ],
   "source": [
    "# pop() - Removes and returns an arbitrary element from the set. Raises an error if the set is empty.\n",
    "myset = {1, 2, 3}\n",
    "element = myset.pop()\n",
    "print(element)"
   ]
  },
  {
   "cell_type": "code",
   "execution_count": 34,
   "metadata": {},
   "outputs": [
    {
     "name": "stdout",
     "output_type": "stream",
     "text": [
      "{1, 3}\n"
     ]
    }
   ],
   "source": [
    "# remove(element) - Removes the specified element from the set. Raises an error if the element does not exist.\n",
    "myset = {1, 2, 3}\n",
    "myset.remove(2)\n",
    "print(myset)"
   ]
  },
  {
   "cell_type": "code",
   "execution_count": 35,
   "metadata": {},
   "outputs": [
    {
     "name": "stdout",
     "output_type": "stream",
     "text": [
      "{1, 2, 4}\n"
     ]
    }
   ],
   "source": [
    "# symmetric_difference(other_set) - Returns a set containing the symmetric difference of two sets.\n",
    "myset = {1, 2, 3}\n",
    "result = myset.symmetric_difference({3, 4})\n",
    "print(result)"
   ]
  },
  {
   "cell_type": "code",
   "execution_count": 36,
   "metadata": {},
   "outputs": [
    {
     "name": "stdout",
     "output_type": "stream",
     "text": [
      "{1, 2, 4}\n"
     ]
    }
   ],
   "source": [
    "# symmetric_difference_update(other_set) - Updates the set with the symmetric difference of itself and another set.\n",
    "myset = {1, 2, 3}\n",
    "myset.symmetric_difference_update({3, 4})\n",
    "print(myset)"
   ]
  },
  {
   "cell_type": "code",
   "execution_count": 37,
   "metadata": {},
   "outputs": [
    {
     "name": "stdout",
     "output_type": "stream",
     "text": [
      "{1, 2, 3}\n"
     ]
    }
   ],
   "source": [
    "# union(other_set) - Returns a set containing the union of sets.\n",
    "myset = {1, 2}\n",
    "result = myset.union({2, 3})\n",
    "print(result)"
   ]
  },
  {
   "cell_type": "code",
   "execution_count": 38,
   "metadata": {},
   "outputs": [
    {
     "name": "stdout",
     "output_type": "stream",
     "text": [
      "{1, 2, 3}\n"
     ]
    }
   ],
   "source": [
    "# update(other_set) - Updates the set with the union of itself and others.\n",
    "myset = {1, 2}\n",
    "myset.update({2, 3})\n",
    "print(myset)"
   ]
  }
 ],
 "metadata": {
  "kernelspec": {
   "display_name": "Python 3",
   "language": "python",
   "name": "python3"
  },
  "language_info": {
   "codemirror_mode": {
    "name": "ipython",
    "version": 3
   },
   "file_extension": ".py",
   "mimetype": "text/x-python",
   "name": "python",
   "nbconvert_exporter": "python",
   "pygments_lexer": "ipython3",
   "version": "3.10.11"
  },
  "orig_nbformat": 4
 },
 "nbformat": 4,
 "nbformat_minor": 2
}
