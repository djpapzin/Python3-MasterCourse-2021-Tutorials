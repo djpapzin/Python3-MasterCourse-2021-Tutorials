try:
    print(x)
except:
    print("An exception occurred")
finally:
    print("This code will run no matter what")