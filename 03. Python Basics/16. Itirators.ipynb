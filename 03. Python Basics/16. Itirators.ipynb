{
 "cells": [
  {
   "cell_type": "code",
   "execution_count": 4,
   "metadata": {},
   "outputs": [
    {
     "name": "stdout",
     "output_type": "stream",
     "text": [
      "apple\n",
      "banana\n",
      "cherry\n"
     ]
    }
   ],
   "source": [
    "my_tuple = [\"apple\", \"banana\", \"cherry\"]\n",
    "\n",
    "my_it = iter(my_tuple)\n",
    "\n",
    "print(next(my_it))\n",
    "print(next(my_it))\n",
    "print(next(my_it))"
   ]
  },
  {
   "cell_type": "code",
   "execution_count": 8,
   "metadata": {},
   "outputs": [
    {
     "name": "stdout",
     "output_type": "stream",
     "text": [
      "b\n",
      "a\n",
      "n\n",
      "a\n",
      "n\n",
      "a\n"
     ]
    }
   ],
   "source": [
    "my_string = \"banana\"\n",
    "\n",
    "my_it = iter(my_string)\n",
    "\n",
    "print(next(my_it))\n",
    "print(next(my_it))\n",
    "print(next(my_it))\n",
    "print(next(my_it))\n",
    "print(next(my_it))\n",
    "print(next(my_it))"
   ]
  },
  {
   "cell_type": "code",
   "execution_count": 9,
   "metadata": {},
   "outputs": [
    {
     "name": "stdout",
     "output_type": "stream",
     "text": [
      "apple\n",
      "banana\n",
      "cherry\n"
     ]
    }
   ],
   "source": [
    "my_tuple = [\"apple\", \"banana\", \"cherry\"]\n",
    "\n",
    "for x in my_tuple:\n",
    "    print(x)"
   ]
  },
  {
   "cell_type": "code",
   "execution_count": 11,
   "metadata": {},
   "outputs": [
    {
     "name": "stdout",
     "output_type": "stream",
     "text": [
      "1\n",
      "2\n",
      "3\n",
      "4\n"
     ]
    }
   ],
   "source": [
    "# class myNumbers: \n",
    "#     def __iter__(self):\n",
    "#         self.a = 1\n",
    "#         return self\n",
    "    \n",
    "#     def __next__(self):\n",
    "#         x = self.a\n",
    "#         self.a += 1\n",
    "#         return x\n",
    "    \n",
    "# myClass = myNumbers()\n",
    "# my_iter = iter(myClass) \n",
    "\n",
    "print(next(my_iter))\n",
    "print(next(my_iter))\n",
    "print(next(my_iter))\n",
    "print(next(my_iter))"
   ]
  },
  {
   "cell_type": "code",
   "execution_count": 12,
   "metadata": {},
   "outputs": [
    {
     "name": "stdout",
     "output_type": "stream",
     "text": [
      "cherry\n",
      "cherry\n",
      "cherry\n",
      "cherry\n",
      "cherry\n",
      "cherry\n",
      "cherry\n",
      "cherry\n",
      "cherry\n",
      "cherry\n",
      "cherry\n",
      "cherry\n",
      "cherry\n",
      "cherry\n",
      "cherry\n",
      "cherry\n",
      "cherry\n",
      "cherry\n",
      "cherry\n",
      "cherry\n"
     ]
    }
   ],
   "source": [
    "class myNumbers: \n",
    "    def __iter__(self):\n",
    "        self.a = 1\n",
    "        return self\n",
    "    \n",
    "    def __next__(self):\n",
    "        if self.a <= 20:\n",
    "            self.a += 1\n",
    "            return x\n",
    "        else:\n",
    "            raise StopIteration\n",
    "    \n",
    "myClass = myNumbers()\n",
    "my_iter = iter(myClass) \n",
    "\n",
    "for x in my_iter:\n",
    "    print(x)"
   ]
  },
  {
   "cell_type": "code",
   "execution_count": null,
   "metadata": {},
   "outputs": [],
   "source": []
  }
 ],
 "metadata": {
  "kernelspec": {
   "display_name": "Python 3",
   "language": "python",
   "name": "python3"
  },
  "language_info": {
   "codemirror_mode": {
    "name": "ipython",
    "version": 3
   },
   "file_extension": ".py",
   "mimetype": "text/x-python",
   "name": "python",
   "nbconvert_exporter": "python",
   "pygments_lexer": "ipython3",
   "version": "3.11.3"
  },
  "orig_nbformat": 4
 },
 "nbformat": 4,
 "nbformat_minor": 2
}
