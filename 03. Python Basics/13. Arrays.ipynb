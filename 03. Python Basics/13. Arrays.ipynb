{
 "cells": [
  {
   "cell_type": "code",
   "execution_count": 20,
   "metadata": {},
   "outputs": [
    {
     "name": "stdout",
     "output_type": "stream",
     "text": [
      "['apples', 'bananas', 'oranges', 'grapes', 'watermelon', 'pears', 'guava', 'windows', 'Mac', 'Linux']\n"
     ]
    }
   ],
   "source": [
    "fruits = [\"apples\", \"bananas\", \"oranges\", \"grapes\", \"watermelon\"]\n",
    "\n",
    "fruits.append(\"pears\")\n",
    "\n",
    "fruits.append(\"guava\")\n",
    "\n",
    "os = [\"windows\", \"Mac\", \"Linux\"]\n",
    "\n",
    "fruits.extend(os)\n",
    "\n",
    "print(fruits)"
   ]
  },
  {
   "cell_type": "code",
   "execution_count": null,
   "metadata": {},
   "outputs": [],
   "source": []
  }
 ],
 "metadata": {
  "kernelspec": {
   "display_name": "Python 3",
   "language": "python",
   "name": "python3"
  },
  "language_info": {
   "codemirror_mode": {
    "name": "ipython",
    "version": 3
   },
   "file_extension": ".py",
   "mimetype": "text/x-python",
   "name": "python",
   "nbconvert_exporter": "python",
   "pygments_lexer": "ipython3",
   "version": "3.11.3"
  },
  "orig_nbformat": 4
 },
 "nbformat": 4,
 "nbformat_minor": 2
}
