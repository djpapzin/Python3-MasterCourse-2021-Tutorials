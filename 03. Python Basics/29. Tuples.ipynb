{
 "cells": [
  {
   "cell_type": "code",
   "execution_count": 2,
   "metadata": {},
   "outputs": [
    {
     "name": "stdout",
     "output_type": "stream",
     "text": [
      "('Google', 'Facebook', 'Amazon', 'Microsoft')\n"
     ]
    }
   ],
   "source": [
    "# Tuple is a collection which is ordered and unchangeable. Allows duplicate members.\n",
    "ourtuple = (\"Google\", \"Facebook\", \"Amazon\", \"Microsoft\")\n",
    "print(ourtuple)"
   ]
  },
  {
   "cell_type": "code",
   "execution_count": 5,
   "metadata": {},
   "outputs": [
    {
     "name": "stdout",
     "output_type": "stream",
     "text": [
      "Microsoft\n"
     ]
    }
   ],
   "source": [
    "# Tuple indexing\n",
    "ourtuple = (\"Google\", \"Facebook\", \"Amazon\", \"Microsoft\")\n",
    "print(ourtuple[3])"
   ]
  },
  {
   "cell_type": "code",
   "execution_count": 3,
   "metadata": {},
   "outputs": [
    {
     "name": "stdout",
     "output_type": "stream",
     "text": [
      "Microsoft\n"
     ]
    }
   ],
   "source": [
    "# Tuple negative indexing\n",
    "ourtuple = (\"Google\", \"Facebook\", \"Amazon\", \"Microsoft\")\n",
    "\n",
    "print(ourtuple[-1])"
   ]
  },
  {
   "cell_type": "code",
   "execution_count": 7,
   "metadata": {},
   "outputs": [
    {
     "name": "stdout",
     "output_type": "stream",
     "text": [
      "['Amazon', 'Microsoft', 'Apple']\n"
     ]
    }
   ],
   "source": [
    "# Tuple range indexing\n",
    "ourtuple = [\"Google\", \"Facebook\", \"Amazon\", \"Microsoft\", \"Apple\", \"Oracle\", \"SAP\", \"Cisco\", \"Juniper\"]\n",
    "print(ourtuple[2:5])"
   ]
  },
  {
   "cell_type": "code",
   "execution_count": 9,
   "metadata": {},
   "outputs": [
    {
     "name": "stdout",
     "output_type": "stream",
     "text": [
      "['Oracle', 'SAP', 'Cisco']\n"
     ]
    }
   ],
   "source": [
    "# Tuple range negative indexing\n",
    "ourtuple = [\"Google\", \"Facebook\", \"Amazon\", \"Microsoft\", \"Apple\", \"Oracle\", \"SAP\", \"Cisco\", \"Juniper\"]\n",
    "print(ourtuple[-4:-1])"
   ]
  },
  {
   "cell_type": "code",
   "execution_count": 13,
   "metadata": {},
   "outputs": [
    {
     "name": "stdout",
     "output_type": "stream",
     "text": [
      "Is Google in the tuple?\n",
      "Yes, Google is in the list\n"
     ]
    }
   ],
   "source": [
    "# Tuple check if item exists\n",
    "ourtuple = [\"Google\", \"Facebook\", \"Amazon\", \"Microsoft\", \"Apple\", \"Oracle\", \"SAP\", \"Cisco\", \"Juniper\"]\n",
    "print(\"Is Google in the tuple?\")\n",
    "if \"Google\" in ourtuple:\n",
    "    print(\"Yes, Google is in the list\")\n",
    "else:\n",
    "    print(\"No, Google is not in the list\")"
   ]
  },
  {
   "cell_type": "code",
   "execution_count": 3,
   "metadata": {},
   "outputs": [
    {
     "name": "stdout",
     "output_type": "stream",
     "text": [
      "('Google', 'Facebook', 'Amazon', 'Microsoft', 'Apple', 'Oracle', 'SAP', 'Cisco', 'Juniper')\n",
      "['Google', 'Facebook', 'Amazon', 'Microsoft', 'Apple', 'Oracle', 'SAP', 'Cisco', 'Juniper']\n"
     ]
    }
   ],
   "source": [
    "# Convert tuple to lists\n",
    "ourtuple = (\"Google\", \"Facebook\", \"Amazon\", \"Microsoft\", \"Apple\", \"Oracle\", \"SAP\", \"Cisco\", \"Juniper\")\n",
    "print(ourtuple)\n",
    "\n",
    "ourlist = list(ourtuple)\n",
    "\n",
    "print(ourlist)"
   ]
  },
  {
   "cell_type": "code",
   "execution_count": 6,
   "metadata": {},
   "outputs": [
    {
     "name": "stdout",
     "output_type": "stream",
     "text": [
      "('Twitter', 'Facebook', 'Amazon', 'Microsoft', 'Apple', 'Oracle', 'SAP', 'Cisco', 'Juniper')\n"
     ]
    }
   ],
   "source": [
    "# Convert tuple to list using index\n",
    "ourtuple = (\"Google\", \"Facebook\", \"Amazon\", \"Microsoft\", \"Apple\", \"Oracle\", \"SAP\", \"Cisco\", \"Juniper\")\n",
    "\n",
    "ourlist = list(ourtuple)\n",
    "ourlist[0] = \"Twitter\"\n",
    "\n",
    "ourtuple = tuple(ourlist)\n",
    "\n",
    "print(ourtuple)"
   ]
  },
  {
   "cell_type": "code",
   "execution_count": 8,
   "metadata": {},
   "outputs": [
    {
     "name": "stdout",
     "output_type": "stream",
     "text": [
      "Google\n",
      "Facebook\n",
      "Amazon\n",
      "Microsoft\n"
     ]
    }
   ],
   "source": [
    "# Unpacking tuple\n",
    "ourtuple = (\"Google\", \"Facebook\", \"Amazon\", \"Microsoft\")\n",
    "(red, green, blue, orange) = ourtuple\n",
    "print(red)\n",
    "print(green)\n",
    "print(blue)\n",
    "print(orange)\n"
   ]
  },
  {
   "cell_type": "code",
   "execution_count": 9,
   "metadata": {},
   "outputs": [
    {
     "name": "stdout",
     "output_type": "stream",
     "text": [
      "Google\n",
      "Facebook\n",
      "Amazon\n",
      "Microsoft\n"
     ]
    }
   ],
   "source": [
    "# Iterating over tuples\n",
    "ourtuple = (\"Google\", \"Facebook\", \"Amazon\", \"Microsoft\")\n",
    "for i in ourtuple:\n",
    "    print(i)"
   ]
  },
  {
   "cell_type": "code",
   "execution_count": 11,
   "metadata": {},
   "outputs": [
    {
     "name": "stdout",
     "output_type": "stream",
     "text": [
      "Google\n",
      "Facebook\n",
      "Amazon\n",
      "Microsoft\n"
     ]
    }
   ],
   "source": [
    "# Iterating over tuples using while loop\n",
    "ourtuple = (\"Google\", \"Facebook\", \"Amazon\", \"Microsoft\")\n",
    "i = 0\n",
    "while i < len(ourtuple):\n",
    "    print(ourtuple[i])\n",
    "    i += 1"
   ]
  },
  {
   "cell_type": "code",
   "execution_count": 12,
   "metadata": {},
   "outputs": [
    {
     "name": "stdout",
     "output_type": "stream",
     "text": [
      "('Google', 'Facebook', 'Amazon', 'Microsoft', 1, 2, 3, 4)\n"
     ]
    }
   ],
   "source": [
    "# Joining tuples\n",
    "ourtuple = (\"Google\", \"Facebook\", \"Amazon\", \"Microsoft\")\n",
    "ourtuple2 = (1, 2, 3, 4)\n",
    "\n",
    "print(ourtuple + ourtuple2)"
   ]
  },
  {
   "cell_type": "code",
   "execution_count": 13,
   "metadata": {},
   "outputs": [
    {
     "name": "stdout",
     "output_type": "stream",
     "text": [
      "('Google', 'Facebook', 'Amazon', 'Microsoft', 'Google', 'Facebook', 'Amazon', 'Microsoft', 'Google', 'Facebook', 'Amazon', 'Microsoft')\n"
     ]
    }
   ],
   "source": [
    "# Multiply tuples\n",
    "ourtuple = (\"Google\", \"Facebook\", \"Amazon\", \"Microsoft\")    \n",
    "mytuple = ourtuple * 3\n",
    "print(mytuple)"
   ]
  },
  {
   "cell_type": "code",
   "execution_count": null,
   "metadata": {},
   "outputs": [],
   "source": []
  }
 ],
 "metadata": {
  "kernelspec": {
   "display_name": "Python 3",
   "language": "python",
   "name": "python3"
  },
  "language_info": {
   "codemirror_mode": {
    "name": "ipython",
    "version": 3
   },
   "file_extension": ".py",
   "mimetype": "text/x-python",
   "name": "python",
   "nbconvert_exporter": "python",
   "pygments_lexer": "ipython3",
   "version": "3.10.11"
  },
  "orig_nbformat": 4
 },
 "nbformat": 4,
 "nbformat_minor": 2
}
