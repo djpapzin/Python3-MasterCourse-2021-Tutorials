{
 "cells": [
  {
   "cell_type": "code",
   "execution_count": 1,
   "metadata": {},
   "outputs": [
    {
     "name": "stdout",
     "output_type": "stream",
     "text": [
      "{'company': 'Microsoft', 'Model': 'Xbox Series X', 'year: ': '2020'}\n"
     ]
    }
   ],
   "source": [
    "# Dictionary items\n",
    "mydic = {\n",
    "    \"company\": \"Microsoft\",\n",
    "    \"Model\": \"Xbox Series X\",\n",
    "    \"year: \": \"2020\"\n",
    "}\n",
    "\n",
    "print(mydic)"
   ]
  },
  {
   "cell_type": "code",
   "execution_count": null,
   "metadata": {},
   "outputs": [],
   "source": [
    "# Aceess items\n",
    "mydic = {\n",
    "    \"company\": \"Microsoft\",\n",
    "    \"Model\": \"Xbox Series X\",\n",
    "    \"year: \": \"2020\"\n",
    "}\n",
    "\n",
    "print(mydic[\"company\"])"
   ]
  },
  {
   "cell_type": "code",
   "execution_count": 8,
   "metadata": {},
   "outputs": [
    {
     "name": "stdout",
     "output_type": "stream",
     "text": [
      "Xbox Series X\n"
     ]
    }
   ],
   "source": [
    "# Get a value from a dictionary\n",
    "mydic = {\n",
    "    \"company\": \"Microsoft\",\n",
    "    \"Model\": \"Xbox Series X\",\n",
    "    \"year: \": \"2020\"\n",
    "}\n",
    "x = mydic.get(\"Model\")\n",
    "\n",
    "print(x)"
   ]
  },
  {
   "cell_type": "code",
   "execution_count": 11,
   "metadata": {},
   "outputs": [
    {
     "name": "stdout",
     "output_type": "stream",
     "text": [
      "dict_keys(['company', 'Model', 'year'])\n",
      "dict_values(['Microsoft', 'Xbox Series X', '2020'])\n"
     ]
    }
   ],
   "source": [
    "# Get key values from a dictionary\n",
    "mydic = {\n",
    "    \"company\": \"Microsoft\",\n",
    "    \"Model\": \"Xbox Series X\",\n",
    "    \"year\": \"2020\"\n",
    "}\n",
    "x = mydic.keys()\n",
    "y = mydic.values()\n",
    "\n",
    "print(x)\n",
    "print(y)"
   ]
  },
  {
   "cell_type": "code",
   "execution_count": 12,
   "metadata": {},
   "outputs": [
    {
     "name": "stdout",
     "output_type": "stream",
     "text": [
      "{}\n"
     ]
    }
   ],
   "source": [
    "# clear() - Removes all items from the dictionary.\n",
    "mydict = {'a': 1, 'b': 2}\n",
    "mydict.clear()\n",
    "print(mydict)"
   ]
  },
  {
   "cell_type": "code",
   "execution_count": 13,
   "metadata": {},
   "outputs": [
    {
     "name": "stdout",
     "output_type": "stream",
     "text": [
      "{'a': 1, 'b': 2}\n"
     ]
    }
   ],
   "source": [
    "# copy() - Returns a shallow copy of the dictionary.\n",
    "mydict = {'a': 1, 'b': 2}\n",
    "newdict = mydict.copy()\n",
    "print(newdict)"
   ]
  },
  {
   "cell_type": "code",
   "execution_count": 14,
   "metadata": {},
   "outputs": [
    {
     "name": "stdout",
     "output_type": "stream",
     "text": [
      "{'a': 0, 'b': 0, 'c': 0}\n"
     ]
    }
   ],
   "source": [
    "# fromkeys(sequence, value) - Returns a new dictionary with keys from the sequence and the specified value.\n",
    "keys = ('a', 'b', 'c')\n",
    "value = 0\n",
    "mydict = dict.fromkeys(keys, value)\n",
    "print(mydict)"
   ]
  },
  {
   "cell_type": "code",
   "execution_count": 15,
   "metadata": {},
   "outputs": [
    {
     "name": "stdout",
     "output_type": "stream",
     "text": [
      "3\n"
     ]
    }
   ],
   "source": [
    "# get(key, default) - Returns the value for the specified key, or the default value if the key does not exist.\n",
    "mydict = {'a': 1, 'b': 2}\n",
    "value = mydict.get('c', 3)\n",
    "print(value)"
   ]
  },
  {
   "cell_type": "code",
   "execution_count": 16,
   "metadata": {},
   "outputs": [
    {
     "name": "stdout",
     "output_type": "stream",
     "text": [
      "dict_items([('a', 1), ('b', 2)])\n"
     ]
    }
   ],
   "source": [
    "# items() - Returns a view object displaying a list of the dictionary's key-value tuple pairs.\n",
    "mydict = {'a': 1, 'b': 2}\n",
    "items = mydict.items()\n",
    "print(items)"
   ]
  },
  {
   "cell_type": "code",
   "execution_count": 17,
   "metadata": {},
   "outputs": [
    {
     "name": "stdout",
     "output_type": "stream",
     "text": [
      "dict_keys(['a', 'b'])\n"
     ]
    }
   ],
   "source": [
    "# keys() - Returns a view object displaying a list of all the keys in the dictionary\n",
    "mydict = {'a': 1, 'b': 2}\n",
    "keys = mydict.keys()\n",
    "print(keys)"
   ]
  },
  {
   "cell_type": "code",
   "execution_count": 18,
   "metadata": {},
   "outputs": [
    {
     "name": "stdout",
     "output_type": "stream",
     "text": [
      "2\n"
     ]
    }
   ],
   "source": [
    "# pop(key, default) - Removes and returns the value for the specified key, or the default value if the key does not exist.\n",
    "mydict = {'a': 1, 'b': 2}\n",
    "value = mydict.pop('b', 'Not Found')\n",
    "print(value)"
   ]
  },
  {
   "cell_type": "code",
   "execution_count": 19,
   "metadata": {},
   "outputs": [
    {
     "name": "stdout",
     "output_type": "stream",
     "text": [
      "('b', 2)\n"
     ]
    }
   ],
   "source": [
    "# popitem() - Removes and returns the last inserted key-value pair as a tuple.\n",
    "mydict = {'a': 1, 'b': 2}\n",
    "item = mydict.popitem()\n",
    "print(item)"
   ]
  },
  {
   "cell_type": "code",
   "execution_count": 20,
   "metadata": {},
   "outputs": [
    {
     "name": "stdout",
     "output_type": "stream",
     "text": [
      "3\n"
     ]
    }
   ],
   "source": [
    "# setdefault(key, default) - Returns the value of the specified key. If the key does not exist, inserts the key with the specified value.\n",
    "mydict = {'a': 1, 'b': 2}\n",
    "value = mydict.setdefault('c', 3)\n",
    "print(value)"
   ]
  },
  {
   "cell_type": "code",
   "execution_count": 21,
   "metadata": {},
   "outputs": [
    {
     "name": "stdout",
     "output_type": "stream",
     "text": [
      "{'a': 1, 'b': 3, 'c': 4}\n"
     ]
    }
   ],
   "source": [
    "# update(other_dict) - Updates the dictionary with the key-value pairs from another dictionary or iterable.\n",
    "mydict = {'a': 1, 'b': 2}\n",
    "mydict.update({'b': 3, 'c': 4})\n",
    "print(mydict)"
   ]
  },
  {
   "cell_type": "code",
   "execution_count": 22,
   "metadata": {},
   "outputs": [
    {
     "name": "stdout",
     "output_type": "stream",
     "text": [
      "dict_values([1, 2])\n"
     ]
    }
   ],
   "source": [
    "# values() - Returns a view object displaying a list of all the values in the dictionary.\n",
    "mydict = {'a': 1, 'b': 2}\n",
    "values = mydict.values()\n",
    "print(values)"
   ]
  }
 ],
 "metadata": {
  "kernelspec": {
   "display_name": "Python 3",
   "language": "python",
   "name": "python3"
  },
  "language_info": {
   "codemirror_mode": {
    "name": "ipython",
    "version": 3
   },
   "file_extension": ".py",
   "mimetype": "text/x-python",
   "name": "python",
   "nbconvert_exporter": "python",
   "pygments_lexer": "ipython3",
   "version": "3.10.11"
  },
  "orig_nbformat": 4
 },
 "nbformat": 4,
 "nbformat_minor": 2
}
