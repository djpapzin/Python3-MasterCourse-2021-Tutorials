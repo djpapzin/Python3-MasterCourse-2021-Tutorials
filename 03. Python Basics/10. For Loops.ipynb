{
 "cells": [
  {
   "cell_type": "code",
   "execution_count": 4,
   "id": "9bacc1b0",
   "metadata": {},
   "outputs": [
    {
     "name": "stdout",
     "output_type": "stream",
     "text": [
      "windows\n",
      "macOS\n",
      "linux\n"
     ]
    }
   ],
   "source": [
    "# For Loop\n",
    "\n",
    "os = (\"windows\", \"macOS\", \"linux\")\n",
    "\n",
    "for a in os:\n",
    "    print(a)"
   ]
  },
  {
   "cell_type": "code",
   "execution_count": 5,
   "id": "e9d0f685",
   "metadata": {},
   "outputs": [
    {
     "name": "stdout",
     "output_type": "stream",
     "text": [
      "w\n",
      "i\n",
      "n\n",
      "d\n",
      "o\n",
      "w\n",
      "s\n"
     ]
    }
   ],
   "source": [
    "#Looping through a string\n",
    "\n",
    "for b in \"windows\":\n",
    "    print(b)"
   ]
  },
  {
   "cell_type": "code",
   "execution_count": 7,
   "id": "cd714444",
   "metadata": {},
   "outputs": [
    {
     "name": "stdout",
     "output_type": "stream",
     "text": [
      "windows\n",
      "macOS\n"
     ]
    }
   ],
   "source": [
    "# The Break Statement (stop)\n",
    "\n",
    "os = (\"windows\", \"macOS\", \"linux\")\n",
    "\n",
    "for c in os:\n",
    "    print(c)\n",
    "    if c == \"macOS\":\n",
    "        break"
   ]
  },
  {
   "cell_type": "code",
   "execution_count": 12,
   "id": "cd1ebd30",
   "metadata": {},
   "outputs": [
    {
     "name": "stdout",
     "output_type": "stream",
     "text": [
      "windows\n",
      "linux\n"
     ]
    }
   ],
   "source": [
    "# The continue statement (skip)\n",
    "\n",
    "os = (\"windows\", \"macOS\", \"linux\")\n",
    "\n",
    "for d in os:\n",
    "    if d == \"macOS\":\n",
    "        continue\n",
    "    print(d)"
   ]
  },
  {
   "cell_type": "code",
   "execution_count": 13,
   "id": "15b7ad54",
   "metadata": {},
   "outputs": [
    {
     "name": "stdout",
     "output_type": "stream",
     "text": [
      "0\n",
      "1\n",
      "2\n",
      "3\n",
      "4\n",
      "5\n"
     ]
    }
   ],
   "source": [
    "# The range function\n",
    "\n",
    "for e in range(6):\n",
    "    print(e)\n"
   ]
  },
  {
   "cell_type": "code",
   "execution_count": 17,
   "id": "1da13116",
   "metadata": {},
   "outputs": [
    {
     "name": "stdout",
     "output_type": "stream",
     "text": [
      "0\n",
      "1\n",
      "2\n",
      "3\n",
      "4\n",
      "5\n",
      "welcome people\n"
     ]
    }
   ],
   "source": [
    "# Else inf For Loop\n",
    "\n",
    "for f in range(6):\n",
    "    print(f)\n",
    "else:\n",
    "    print(\"welcome people\")"
   ]
  },
  {
   "cell_type": "code",
   "execution_count": null,
   "id": "5dfaa2b6",
   "metadata": {},
   "outputs": [],
   "source": []
  },
  {
   "cell_type": "code",
   "execution_count": 27,
   "id": "e9c3aa7e",
   "metadata": {},
   "outputs": [
    {
     "name": "stdout",
     "output_type": "stream",
     "text": [
      "red apple\n",
      "red banana\n",
      "big apple\n",
      "big banana\n"
     ]
    }
   ],
   "source": [
    "#Nested Loops\n",
    "\n",
    "adj = [\"red\", \"big\", \"tasty\"]\n",
    "fruits = [\"apple\", \"banana\", \"cherry\"]\n",
    "\n",
    "for g in adj:\n",
    "    for h in fruits: \n",
    "        if g == \"tasty\" or h == \"cherry\":\n",
    "            continue\n",
    "        print(g, h)\n"
   ]
  },
  {
   "cell_type": "code",
   "execution_count": null,
   "id": "83b4778a",
   "metadata": {},
   "outputs": [],
   "source": []
  }
 ],
 "metadata": {
  "kernelspec": {
   "display_name": "Python 3 (ipykernel)",
   "language": "python",
   "name": "python3"
  },
  "language_info": {
   "codemirror_mode": {
    "name": "ipython",
    "version": 3
   },
   "file_extension": ".py",
   "mimetype": "text/x-python",
   "name": "python",
   "nbconvert_exporter": "python",
   "pygments_lexer": "ipython3",
   "version": "3.9.13"
  }
 },
 "nbformat": 4,
 "nbformat_minor": 5
}
