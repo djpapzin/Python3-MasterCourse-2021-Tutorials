{
 "cells": [
  {
   "cell_type": "code",
   "execution_count": 1,
   "metadata": {},
   "outputs": [
    {
     "name": "stdout",
     "output_type": "stream",
     "text": [
      "This is a multiline string.\n",
      "It can be as long as you want.\n",
      "\n"
     ]
    }
   ],
   "source": [
    "a = \"\"\"This is a multiline string.\n",
    "It can be as long as you want.\n",
    "\"\"\"\n",
    "print(a)"
   ]
  },
  {
   "cell_type": "code",
   "execution_count": 3,
   "metadata": {},
   "outputs": [
    {
     "name": "stdout",
     "output_type": "stream",
     "text": [
      "this is another one\n",
      "it doest worry me\n",
      "its very long\n"
     ]
    }
   ],
   "source": [
    "b = '''this is another one\n",
    "it doest worry me\n",
    "its very long'''\n",
    "\n",
    "print(b)"
   ]
  },
  {
   "cell_type": "code",
   "execution_count": 9,
   "metadata": {},
   "outputs": [
    {
     "name": "stdout",
     "output_type": "stream",
     "text": [
      "Yes, 'Python' is present.\n"
     ]
    }
   ],
   "source": [
    "text = \"Python is a very good programming language\"\n",
    "\n",
    "if \"Python\" in text:\n",
    "    print(\"Yes, 'Python' is present.\")  "
   ]
  },
  {
   "cell_type": "code",
   "execution_count": 11,
   "metadata": {},
   "outputs": [],
   "source": [
    "text = \"python is a very good programming language\"\n",
    "\n",
    "if \"Python\" in text.lower():\n",
    "    print(\"Yes, 'Python' is present.\")\n"
   ]
  },
  {
   "cell_type": "code",
   "execution_count": 13,
   "metadata": {},
   "outputs": [
    {
     "name": "stdout",
     "output_type": "stream",
     "text": [
      "Yes, 'Python' is present.\n"
     ]
    }
   ],
   "source": [
    "text = \"Python is a very good programming language\"\n",
    "\n",
    "if \"Python\".lower() in text.lower():\n",
    "    print(\"Yes, 'Python' is present.\")\n"
   ]
  },
  {
   "cell_type": "code",
   "execution_count": 31,
   "metadata": {},
   "outputs": [
    {
     "name": "stdout",
     "output_type": "stream",
     "text": [
      "pello, Python\n"
     ]
    }
   ],
   "source": [
    "# slicing strings\n",
    "a = \"Hello, Python\"\n",
    "sliced = a.replace(\"H\", \"p\")\n",
    "print(sliced)"
   ]
  },
  {
   "cell_type": "code",
   "execution_count": 35,
   "metadata": {},
   "outputs": [
    {
     "name": "stdout",
     "output_type": "stream",
     "text": [
      "['2', '23-', '6-27']\n"
     ]
    }
   ],
   "source": [
    "date = \"2023-06-27\"\n",
    "date_parts = date.split(\"0\")\n",
    "print(date_parts)"
   ]
  },
  {
   "cell_type": "code",
   "execution_count": 36,
   "metadata": {},
   "outputs": [
    {
     "name": "stdout",
     "output_type": "stream",
     "text": [
      "My name is Josh, I am {formatted_age}\n"
     ]
    }
   ],
   "source": [
    "age = 35\n",
    "formatted_age = format(age)\n",
    "text = \"My name is Josh, I am {formatted_age}\"\n",
    "print(text)\n"
   ]
  },
  {
   "cell_type": "code",
   "execution_count": null,
   "metadata": {},
   "outputs": [],
   "source": []
  }
 ],
 "metadata": {
  "kernelspec": {
   "display_name": "Python 3",
   "language": "python",
   "name": "python3"
  },
  "language_info": {
   "codemirror_mode": {
    "name": "ipython",
    "version": 3
   },
   "file_extension": ".py",
   "mimetype": "text/x-python",
   "name": "python",
   "nbconvert_exporter": "python",
   "pygments_lexer": "ipython3",
   "version": "3.10.11"
  },
  "orig_nbformat": 4
 },
 "nbformat": 4,
 "nbformat_minor": 2
}
